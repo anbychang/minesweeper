{
 "cells": [
  {
   "cell_type": "code",
   "execution_count": null,
   "id": "powered-emerald",
   "metadata": {},
   "outputs": [],
   "source": [
    "import ms\n",
    "\n",
    "board = ms.Minesweeper('''\n",
    ".....\n",
    ".ss1.\n",
    "?????\n",
    "''')\n",
    "\n",
    "board.solve()\n",
    "board.output_signature(figure=True, text=False)"
   ]
  }
 ],
 "metadata": {
  "kernelspec": {
   "display_name": "Python 3",
   "language": "python",
   "name": "python3"
  },
  "language_info": {
   "codemirror_mode": {
    "name": "ipython",
    "version": 3
   },
   "file_extension": ".py",
   "mimetype": "text/x-python",
   "name": "python",
   "nbconvert_exporter": "python",
   "pygments_lexer": "ipython3",
   "version": "3.9.1"
  }
 },
 "nbformat": 4,
 "nbformat_minor": 5
}
