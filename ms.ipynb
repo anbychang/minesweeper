{
 "cells": [
  {
   "cell_type": "code",
   "execution_count": 31,
   "id": "instructional-speaking",
   "metadata": {},
   "outputs": [
    {
     "name": "stdout",
     "output_type": "stream",
     "text": [
      "--/-- ['111', '112', '122', '211', '221', '222']\n",
      "--O-- ['121']\n",
      "--X-- ['212']\n",
      "\n",
      "---/--- ['11111']\n",
      "---O--- ['11112', '21111', '21112']\n",
      "---X--- []\n",
      "\n",
      "----/---- ['1111111', '1111112', '2111111']\n",
      "----O---- []\n",
      "----X---- ['2111112']\n",
      "\n",
      "-----/----- ['111111111', '111111112', '211111111']\n",
      "-----O----- []\n",
      "-----X----- ['211111112']\n",
      "\n",
      "------/------ ['11111111111']\n",
      "------O------ ['11111111112', '21111111111', '21111111112']\n",
      "------X------ []\n",
      "\n",
      "-------/------- ['1111111111111', '1111111111112', '2111111111111']\n",
      "-------O------- []\n",
      "-------X------- ['2111111111112']\n",
      "\n"
     ]
    }
   ],
   "source": [
    "import importlib\n",
    "import ms\n",
    "import re\n",
    "importlib.reload(ms)\n",
    "\n",
    "# ms.Minesweeper.help()\n",
    "board = ms.Minesweeper('''\n",
    ".....\n",
    ".###.\n",
    "?????\n",
    "''')\n",
    "# board.solve()\n",
    "# board.output_signature(figure=True, text=False)\n",
    "\n",
    "ms.analyze_unknown_center('111', 0)\n",
    "for i in range(3, 13, 2):\n",
    "    ms.analyze_unknown_center('1' * i)"
   ]
  }
 ],
 "metadata": {
  "kernelspec": {
   "display_name": "Python 3",
   "language": "python",
   "name": "python3"
  },
  "language_info": {
   "codemirror_mode": {
    "name": "ipython",
    "version": 3
   },
   "file_extension": ".py",
   "mimetype": "text/x-python",
   "name": "python",
   "nbconvert_exporter": "python",
   "pygments_lexer": "ipython3",
   "version": "3.9.1"
  }
 },
 "nbformat": 4,
 "nbformat_minor": 5
}
