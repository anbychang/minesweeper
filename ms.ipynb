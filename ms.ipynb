{
 "cells": [
  {
   "cell_type": "code",
   "execution_count": null,
   "id": "geological-scientist",
   "metadata": {},
   "outputs": [],
   "source": [
    "import importlib\n",
    "import ms\n",
    "import re"
   ]
  },
  {
   "cell_type": "code",
   "execution_count": null,
   "id": "invalid-restoration",
   "metadata": {},
   "outputs": [],
   "source": [
    "importlib.reload(ms)\n",
    "\n",
    "ms.Minesweeper.help()\n",
    "board = ms.Minesweeper('''\n",
    ".....\n",
    ".###.\n",
    "?????\n",
    "''')\n",
    "board.solve()\n",
    "board.output_signature(figure=True, text=False)"
   ]
  },
  {
   "cell_type": "code",
   "execution_count": null,
   "id": "realistic-qualification",
   "metadata": {},
   "outputs": [],
   "source": [
    "importlib.reload(ms)\n",
    "\n",
    "ms.analyze_unknown_center('111', 1)\n",
    "for i in range(3, 13, 2):\n",
    "    ms.analyze_unknown_center('1' * i)"
   ]
  }
 ],
 "metadata": {
  "kernelspec": {
   "display_name": "Python 3",
   "language": "python",
   "name": "python3"
  },
  "language_info": {
   "codemirror_mode": {
    "name": "ipython",
    "version": 3
   },
   "file_extension": ".py",
   "mimetype": "text/x-python",
   "name": "python",
   "nbconvert_exporter": "python",
   "pygments_lexer": "ipython3",
   "version": "3.9.1"
  }
 },
 "nbformat": 4,
 "nbformat_minor": 5
}
