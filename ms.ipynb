{
 "cells": [
  {
   "cell_type": "code",
   "execution_count": null,
   "id": "worth-copyright",
   "metadata": {},
   "outputs": [],
   "source": [
    "import importlib\n",
    "import ms\n",
    "importlib.reload(ms)\n",
    "\n",
    "# ms.Minesweeper.help()\n",
    "board = ms.Minesweeper('''\n",
    ".....\n",
    ".###.\n",
    "?????\n",
    "''')\n",
    "board.solve()\n",
    "board.output_signature(figure=False, text=True)\n",
    "for k in sorted(board.commons):\n",
    "    print(k, board.commons[k])"
   ]
  }
 ],
 "metadata": {
  "kernelspec": {
   "display_name": "Python 3",
   "language": "python",
   "name": "python3"
  },
  "language_info": {
   "codemirror_mode": {
    "name": "ipython",
    "version": 3
   },
   "file_extension": ".py",
   "mimetype": "text/x-python",
   "name": "python",
   "nbconvert_exporter": "python",
   "pygments_lexer": "ipython3",
   "version": "3.9.1"
  }
 },
 "nbformat": 4,
 "nbformat_minor": 5
}
